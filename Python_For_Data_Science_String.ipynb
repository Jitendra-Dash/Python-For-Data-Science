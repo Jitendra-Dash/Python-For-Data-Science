{
  "nbformat": 4,
  "nbformat_minor": 0,
  "metadata": {
    "kernelspec": {
      "display_name": "Python 3",
      "language": "python",
      "name": "python3"
    },
    "language_info": {
      "codemirror_mode": {
        "name": "ipython",
        "version": 3
      },
      "file_extension": ".py",
      "mimetype": "text/x-python",
      "name": "python",
      "nbconvert_exporter": "python",
      "pygments_lexer": "ipython3",
      "version": "3.7.0"
    },
    "colab": {
      "name": "Python For Data Science - String.ipynb",
      "provenance": [],
      "include_colab_link": true
    }
  },
  "cells": [
    {
      "cell_type": "markdown",
      "metadata": {
        "id": "view-in-github",
        "colab_type": "text"
      },
      "source": [
        "<a href=\"https://colab.research.google.com/github/Jitendra-Dash/Python-For-Data-Science/blob/main/Python_For_Data_Science_String.ipynb\" target=\"_parent\"><img src=\"https://colab.research.google.com/assets/colab-badge.svg\" alt=\"Open In Colab\"/></a>"
      ]
    },
    {
      "cell_type": "markdown",
      "metadata": {
        "id": "gtnwoW2k6lcj"
      },
      "source": [
        "# Python For Data Science - String"
      ]
    },
    {
      "cell_type": "markdown",
      "metadata": {
        "id": "ggQU2PyG6lck"
      },
      "source": [
        "- A string is a sequence of characters.\n",
        "- Strings in python are surrounded by either single quotation marks, or double quotation marks.\n",
        "- strings are immutable"
      ]
    },
    {
      "cell_type": "code",
      "metadata": {
        "id": "JM2EK2lB6lck",
        "outputId": "4f6b51b3-89d8-4829-a7a2-97c9716a30df"
      },
      "source": [
        "s = \"python for data scince\"\n",
        "print(s)"
      ],
      "execution_count": null,
      "outputs": [
        {
          "output_type": "stream",
          "text": [
            "python for data scince\n"
          ],
          "name": "stdout"
        }
      ]
    },
    {
      "cell_type": "code",
      "metadata": {
        "id": "-x_DMGnK6lcm",
        "outputId": "937e3be1-114b-4563-e216-57660874e13d"
      },
      "source": [
        "# indexing \n",
        "print(s[0])\n",
        "print(s[1])\n",
        "print(s[2])\n",
        "print(s[3])\n",
        "print(s[4])\n",
        "print(s[5])"
      ],
      "execution_count": null,
      "outputs": [
        {
          "output_type": "stream",
          "text": [
            "p\n",
            "y\n",
            "t\n",
            "h\n",
            "o\n",
            "n\n"
          ],
          "name": "stdout"
        }
      ]
    },
    {
      "cell_type": "code",
      "metadata": {
        "id": "IHndd3po6lcm",
        "outputId": "248cadb2-9694-47c6-9186-802250678a7f"
      },
      "source": [
        "# slicing\n",
        "print(s[6:24])"
      ],
      "execution_count": null,
      "outputs": [
        {
          "output_type": "stream",
          "text": [
            " for data scince\n"
          ],
          "name": "stdout"
        }
      ]
    },
    {
      "cell_type": "code",
      "metadata": {
        "id": "4oXAKRrz6lcn"
      },
      "source": [
        "# remove\n",
        "del s"
      ],
      "execution_count": null,
      "outputs": []
    },
    {
      "cell_type": "code",
      "metadata": {
        "id": "Ep16KW1K6lcn",
        "outputId": "83a073f4-d43f-49ac-977e-ddab8a53e8c4"
      },
      "source": [
        "print(s)"
      ],
      "execution_count": null,
      "outputs": [
        {
          "output_type": "error",
          "ename": "NameError",
          "evalue": "name 's' is not defined",
          "traceback": [
            "\u001b[1;31m---------------------------------------------------------------------------\u001b[0m",
            "\u001b[1;31mNameError\u001b[0m                                 Traceback (most recent call last)",
            "\u001b[1;32m<ipython-input-9-0ff1b7208845>\u001b[0m in \u001b[0;36m<module>\u001b[1;34m()\u001b[0m\n\u001b[1;32m----> 1\u001b[1;33m \u001b[0mprint\u001b[0m\u001b[1;33m(\u001b[0m\u001b[0ms\u001b[0m\u001b[1;33m)\u001b[0m\u001b[1;33m\u001b[0m\u001b[0m\n\u001b[0m",
            "\u001b[1;31mNameError\u001b[0m: name 's' is not defined"
          ]
        }
      ]
    },
    {
      "cell_type": "code",
      "metadata": {
        "id": "s0gG-PRK6lcn",
        "outputId": "3c32dd09-383e-4fdf-a4cf-5ef695a0d485"
      },
      "source": [
        "s = \" summing\"\n",
        "s1 = \" up\"\n",
        "\n",
        "k = s+s1\n",
        "print(k)"
      ],
      "execution_count": null,
      "outputs": [
        {
          "output_type": "stream",
          "text": [
            " summing up\n"
          ],
          "name": "stdout"
        }
      ]
    },
    {
      "cell_type": "code",
      "metadata": {
        "id": "SsXuGfP26lco",
        "outputId": "8a51b3d3-ba76-401b-fc04-713e88d8eec8"
      },
      "source": [
        "k * 5"
      ],
      "execution_count": null,
      "outputs": [
        {
          "output_type": "execute_result",
          "data": {
            "text/plain": [
              "' summing up summing up summing up summing up summing up'"
            ]
          },
          "metadata": {
            "tags": []
          },
          "execution_count": 15
        }
      ]
    },
    {
      "cell_type": "code",
      "metadata": {
        "id": "g8M1BSJo6lco",
        "outputId": "e47610aa-075d-44f3-d0e7-1ac271cc5901"
      },
      "source": [
        "for i in \"summing up\":\n",
        "    if i == \"m\":\n",
        "        print(True)"
      ],
      "execution_count": null,
      "outputs": [
        {
          "output_type": "stream",
          "text": [
            "True\n",
            "True\n"
          ],
          "name": "stdout"
        }
      ]
    },
    {
      "cell_type": "code",
      "metadata": {
        "id": "ctMq7O866lco",
        "outputId": "900ad513-5448-4e26-816f-327ec77d155e"
      },
      "source": [
        "\"s\" in \"summing up\""
      ],
      "execution_count": null,
      "outputs": [
        {
          "output_type": "execute_result",
          "data": {
            "text/plain": [
              "True"
            ]
          },
          "metadata": {
            "tags": []
          },
          "execution_count": 37
        }
      ]
    },
    {
      "cell_type": "code",
      "metadata": {
        "id": "LWYgMdPZ6lcp",
        "outputId": "5d06cc75-0fc9-4aaa-ac17-a77b065deb3f"
      },
      "source": [
        "# convert to lower\n",
        "s  = \"SumMing Up\"\n",
        "print(s)\n",
        "print(s.lower())"
      ],
      "execution_count": null,
      "outputs": [
        {
          "output_type": "stream",
          "text": [
            "SumMing Up\n",
            "summing up\n"
          ],
          "name": "stdout"
        }
      ]
    },
    {
      "cell_type": "code",
      "metadata": {
        "id": "VTEqKaEf6lcp",
        "outputId": "e4644839-b080-4303-dfc0-b6e06d2008cc"
      },
      "source": [
        "# split()\n",
        "s = \"Python For Data Science\"\n",
        "s.split()"
      ],
      "execution_count": null,
      "outputs": [
        {
          "output_type": "execute_result",
          "data": {
            "text/plain": [
              "['Python', 'For', 'Data', 'Science']"
            ]
          },
          "metadata": {
            "tags": []
          },
          "execution_count": 40
        }
      ]
    },
    {
      "cell_type": "code",
      "metadata": {
        "id": "eDIP9Ejk6lcq",
        "outputId": "508774ea-712e-4139-f23f-13aa836c2838"
      },
      "source": [
        "# join\n",
        "s = ' '.join(['Python', 'For', 'Data', 'Science'])\n",
        "print(s)"
      ],
      "execution_count": null,
      "outputs": [
        {
          "output_type": "stream",
          "text": [
            "Python For Data Science\n"
          ],
          "name": "stdout"
        }
      ]
    },
    {
      "cell_type": "code",
      "metadata": {
        "id": "brOtIrqo6lcq",
        "outputId": "dcc63b44-3797-4cab-f90c-1fcc41feb523"
      },
      "source": [
        "# find ()\n",
        "s.find(\"Data\")"
      ],
      "execution_count": null,
      "outputs": [
        {
          "output_type": "execute_result",
          "data": {
            "text/plain": [
              "11"
            ]
          },
          "metadata": {
            "tags": []
          },
          "execution_count": 47
        }
      ]
    },
    {
      "cell_type": "code",
      "metadata": {
        "id": "7KA_15cu6lcq",
        "outputId": "76dbf52d-e52b-48fc-f860-391e6e4f9d9c"
      },
      "source": [
        "# replace()\n",
        "s.replace(\"Data Science\",\"Machine Learning\")"
      ],
      "execution_count": null,
      "outputs": [
        {
          "output_type": "execute_result",
          "data": {
            "text/plain": [
              "'Python For Machine Learning'"
            ]
          },
          "metadata": {
            "tags": []
          },
          "execution_count": 49
        }
      ]
    }
  ]
}