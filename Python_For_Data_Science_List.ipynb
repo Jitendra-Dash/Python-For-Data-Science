{
  "nbformat": 4,
  "nbformat_minor": 0,
  "metadata": {
    "kernelspec": {
      "display_name": "Python 3",
      "language": "python",
      "name": "python3"
    },
    "language_info": {
      "codemirror_mode": {
        "name": "ipython",
        "version": 3
      },
      "file_extension": ".py",
      "mimetype": "text/x-python",
      "name": "python",
      "nbconvert_exporter": "python",
      "pygments_lexer": "ipython3",
      "version": "3.7.0"
    },
    "colab": {
      "name": "Python For Data Science - List.ipynb",
      "provenance": [],
      "include_colab_link": true
    }
  },
  "cells": [
    {
      "cell_type": "markdown",
      "metadata": {
        "id": "view-in-github",
        "colab_type": "text"
      },
      "source": [
        "<a href=\"https://colab.research.google.com/github/Jitendra-Dash/Python-For-Data-Science/blob/main/Python_For_Data_Science_List.ipynb\" target=\"_parent\"><img src=\"https://colab.research.google.com/assets/colab-badge.svg\" alt=\"Open In Colab\"/></a>"
      ]
    },
    {
      "cell_type": "markdown",
      "metadata": {
        "id": "wSeBbT9K6bP2"
      },
      "source": [
        "# Python For Data Science - List"
      ]
    },
    {
      "cell_type": "markdown",
      "metadata": {
        "id": "60cgREdP6bP3"
      },
      "source": [
        "-  Its a sequence Data Structure\n",
        "-  collection of items\n",
        "-  Lists are enclosed in [ ]\n",
        "-  Lists are mutable"
      ]
    },
    {
      "cell_type": "code",
      "metadata": {
        "id": "1j7hv29E6bP3",
        "outputId": "18fa71e3-544d-4d5a-aa74-94e00e8885f9"
      },
      "source": [
        "# list creation\n",
        "lst_1 = list()\n",
        "print(type(lst_1))\n",
        "\n",
        "lst_2 = []\n",
        "print(type(lst_2))"
      ],
      "execution_count": null,
      "outputs": [
        {
          "output_type": "stream",
          "text": [
            "<class 'list'>\n",
            "<class 'list'>\n"
          ],
          "name": "stdout"
        }
      ]
    },
    {
      "cell_type": "code",
      "metadata": {
        "id": "Jrg_EBc26bP5",
        "outputId": "6803344e-b404-42e4-feae-018178aa5b6f"
      },
      "source": [
        "lst_1 = ['a', 'b','c']# we can store string\n",
        "lst_2 = [1,2,3,4]# integer\n",
        "lst_3 = ['a',1,'b',2]# integer and string # different data type\n",
        "lst_4 = [\"one\",2,3.2,\"four\"]\n",
        "\n",
        "print(lst_1)\n",
        "print(lst_2)\n",
        "print(lst_3)\n",
        "print(lst_4)"
      ],
      "execution_count": null,
      "outputs": [
        {
          "output_type": "stream",
          "text": [
            "['a', 'b', 'c']\n",
            "[1, 2, 3, 4]\n",
            "['a', 1, 'b', 2]\n",
            "['one', 2, 3.2, 'four']\n"
          ],
          "name": "stdout"
        }
      ]
    },
    {
      "cell_type": "code",
      "metadata": {
        "id": "7iU3xwyq6bP5",
        "outputId": "ae2338a8-94a4-4c52-aaf6-d024f03004a4"
      },
      "source": [
        "# update the list\n",
        "\n",
        "lst_1.extend('d')\n",
        "print(lst_1)\n",
        "\n",
        "lst_1.append('e')\n",
        "print(lst_1)\n",
        "\n",
        "lst_1[2]  = \"k\"\n",
        "print(lst_1)\n"
      ],
      "execution_count": null,
      "outputs": [
        {
          "output_type": "stream",
          "text": [
            "['a', 'b', 'c', 'd']\n",
            "['a', 'b', 'c', 'd', 'e']\n",
            "['a', 'b', 'k', 'd', 'e']\n"
          ],
          "name": "stdout"
        }
      ]
    },
    {
      "cell_type": "code",
      "metadata": {
        "id": "9C5oBTZl6bP6",
        "outputId": "f06ee1e2-5326-42a2-97dd-52fa36ee02bc"
      },
      "source": [
        "#remove\n",
        "lst_1.remove('k')\n",
        "print(lst_1)"
      ],
      "execution_count": null,
      "outputs": [
        {
          "output_type": "stream",
          "text": [
            "['a', 'b', 'd', 'e']\n"
          ],
          "name": "stdout"
        }
      ]
    },
    {
      "cell_type": "code",
      "metadata": {
        "id": "BMO1c7gb6bP6",
        "outputId": "6ad54a7e-e663-43d3-d44b-e9d07e2a1170"
      },
      "source": [
        "# append and extend\n",
        "\n",
        "# append added to the end\n",
        "# extend will merge 2 list\n",
        "\n",
        "a = ['one','two','three']\n",
        "b = [4,5,6]\n",
        "a.append(b)\n",
        "print(a)\n",
        "\n",
        "l = ['one','two','three']\n",
        "k = ['four','five']\n",
        "l.extend(k)\n",
        "print(l)\n",
        "\n",
        "m = ['one','two','three']\n",
        "n = ['four','five']\n",
        "z = m+n\n",
        "print(z)\n"
      ],
      "execution_count": null,
      "outputs": [
        {
          "output_type": "stream",
          "text": [
            "['one', 'two', 'three', [4, 5, 6]]\n",
            "['one', 'two', 'three', 'four', 'five']\n",
            "['one', 'two', 'three', 'four', 'five']\n"
          ],
          "name": "stdout"
        }
      ]
    },
    {
      "cell_type": "code",
      "metadata": {
        "id": "9lv1GeSQ6bP7",
        "outputId": "64e496a6-ba5d-4c28-da14-4f144d4e042c"
      },
      "source": [
        "# remove, delete and pop\n",
        "\n",
        "a = ['one','one','two','three','four']\n",
        "print(a)\n",
        "a.remove('one')# remove the first occurance\n",
        "print(a)\n",
        "\n",
        "del a[0] # index \n",
        "print(a)\n",
        "\n",
        "a.pop(0) #index\n",
        "print(a)"
      ],
      "execution_count": null,
      "outputs": [
        {
          "output_type": "stream",
          "text": [
            "['one', 'one', 'two', 'three', 'four']\n",
            "['one', 'two', 'three', 'four']\n",
            "['two', 'three', 'four']\n",
            "['three', 'four']\n"
          ],
          "name": "stdout"
        }
      ]
    },
    {
      "cell_type": "code",
      "metadata": {
        "id": "gpOJYeE36bP7",
        "outputId": "94bb77a8-187a-4d18-dc16-c82b5af69365"
      },
      "source": [
        "# length\n",
        "a = ['one','one','two','three','four']\n",
        "len(a)"
      ],
      "execution_count": null,
      "outputs": [
        {
          "output_type": "execute_result",
          "data": {
            "text/plain": [
              "5"
            ]
          },
          "metadata": {
            "tags": []
          },
          "execution_count": 14
        }
      ]
    },
    {
      "cell_type": "code",
      "metadata": {
        "id": "xQCPdXRH6bP8",
        "outputId": "3ac85f62-da12-4fc5-a215-52526f649ffc"
      },
      "source": [
        "# reverse\n",
        "\n",
        "a.reverse()\n",
        "print(a)"
      ],
      "execution_count": null,
      "outputs": [
        {
          "output_type": "stream",
          "text": [
            "['four', 'three', 'two', 'one', 'one']\n"
          ],
          "name": "stdout"
        }
      ]
    },
    {
      "cell_type": "code",
      "metadata": {
        "id": "OUqBnhna6bP9",
        "outputId": "98c0d21c-5dd1-4e3d-b87c-91a56fb68b07"
      },
      "source": [
        "# sorting\n",
        "# https://docs.python.org/3/howto/sorting.html\n",
        "\n",
        "a = [4,8,1,0,3,6,8]\n",
        "b = sorted(a )\n",
        "print(b)\n",
        "\n",
        "# in descending order\n",
        "k = sorted(a , reverse = True)\n",
        "print(k)"
      ],
      "execution_count": null,
      "outputs": [
        {
          "output_type": "stream",
          "text": [
            "[0, 1, 3, 4, 6, 8, 8]\n",
            "[8, 8, 6, 4, 3, 1, 0]\n"
          ],
          "name": "stdout"
        }
      ]
    },
    {
      "cell_type": "code",
      "metadata": {
        "id": "7T-1DYu76bP9",
        "outputId": "96909fa0-736b-4928-fb6c-ba622953fb97"
      },
      "source": [
        "# split\n",
        "lst = \"this is Summing Up AI\"\n",
        "\n",
        "lst1 = lst.split()\n",
        "print(lst1)"
      ],
      "execution_count": null,
      "outputs": [
        {
          "output_type": "stream",
          "text": [
            "['this', 'is', 'Summing', 'Up', 'AI']\n"
          ],
          "name": "stdout"
        }
      ]
    },
    {
      "cell_type": "code",
      "metadata": {
        "id": "j4wjE2Sb6bP-",
        "outputId": "5a80839f-03a9-4944-9187-0258c96adc96"
      },
      "source": [
        "# indexing\n",
        "a = ['one','one','two','three','four']\n",
        "print(a[1])\n",
        "print(a[-1])"
      ],
      "execution_count": null,
      "outputs": [
        {
          "output_type": "stream",
          "text": [
            "one\n",
            "four\n"
          ],
          "name": "stdout"
        }
      ]
    },
    {
      "cell_type": "code",
      "metadata": {
        "id": "t4usrLd26bP-",
        "outputId": "551ed9b1-a76d-4270-85db-9b37df9c8166"
      },
      "source": [
        "# slicing : access a given part of the list\n",
        "\n",
        "a = ['one','two','three','four','five']\n",
        "\n",
        "print(a[:])# print all\n",
        "print(a[2:4])\n",
        "print(a[::2])"
      ],
      "execution_count": null,
      "outputs": [
        {
          "output_type": "stream",
          "text": [
            "['one', 'two', 'three', 'four', 'five']\n",
            "['three', 'four']\n",
            "['one', 'three', 'five']\n"
          ],
          "name": "stdout"
        }
      ]
    },
    {
      "cell_type": "code",
      "metadata": {
        "id": "6G_kuynT6bP-",
        "outputId": "9804647d-9055-455c-b3f1-88fe8de716f2"
      },
      "source": [
        "# loop in list\n",
        "\n",
        "a = ['one','two','three']\n",
        "\n",
        "for i in a:\n",
        "    print(i)"
      ],
      "execution_count": null,
      "outputs": [
        {
          "output_type": "stream",
          "text": [
            "one\n",
            "two\n",
            "three\n"
          ],
          "name": "stdout"
        }
      ]
    },
    {
      "cell_type": "code",
      "metadata": {
        "id": "MtWcBfnR6bP_",
        "outputId": "0badcbf4-db28-464a-f4be-836d2595f1cf"
      },
      "source": [
        "#list Comprehension\n",
        "lst = [1,2,3,4]\n",
        "\n",
        "# normal way\n",
        "a = list()\n",
        "for i in lst:  \n",
        "    a.append(i**2)\n",
        "print(a)\n",
        "\n",
        "#Comprehension\n",
        "pwr = [i**2 for i in lst ]\n",
        "print(pwr)"
      ],
      "execution_count": null,
      "outputs": [
        {
          "output_type": "stream",
          "text": [
            "[1, 4, 9, 16]\n",
            "[1, 4, 9, 16]\n"
          ],
          "name": "stdout"
        }
      ]
    }
  ]
}