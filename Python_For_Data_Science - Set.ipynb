{
  "nbformat": 4,
  "nbformat_minor": 0,
  "metadata": {
    "kernelspec": {
      "display_name": "Python 3",
      "language": "python",
      "name": "python3"
    },
    "language_info": {
      "codemirror_mode": {
        "name": "ipython",
        "version": 3
      },
      "file_extension": ".py",
      "mimetype": "text/x-python",
      "name": "python",
      "nbconvert_exporter": "python",
      "pygments_lexer": "ipython3",
      "version": "3.7.0"
    },
    "colab": {
      "name": "Python For Data Science - Set.ipynb",
      "provenance": [],
      "include_colab_link": true
    }
  },
  "cells": [
    {
      "cell_type": "markdown",
      "metadata": {
        "id": "view-in-github",
        "colab_type": "text"
      },
      "source": [
        "<a href=\"https://colab.research.google.com/github/Jitendra-Dash/Python-For-Data-Science/blob/main/Python_For_Data_Science%20-%20Set.ipynb\" target=\"_parent\"><img src=\"https://colab.research.google.com/assets/colab-badge.svg\" alt=\"Open In Colab\"/></a>"
      ]
    },
    {
      "cell_type": "markdown",
      "metadata": {
        "id": "1agUOyaq6hUE"
      },
      "source": [
        "# Python For Data Science - Set\n",
        "- its an unordered collection of items\n",
        "- mutable\n",
        "- can done operations like intersection, symmetric difference , union etc"
      ]
    },
    {
      "cell_type": "code",
      "metadata": {
        "id": "q3kC-8x06hUE",
        "outputId": "64a08354-d860-4ba9-9a2f-39ff4a710ce9"
      },
      "source": [
        "# create a set\n",
        "\n",
        "s = set()\n",
        "print(type(s))\n",
        "\n",
        "s = {1,2,3}\n",
        "print(type(s))"
      ],
      "execution_count": null,
      "outputs": [
        {
          "output_type": "stream",
          "text": [
            "<class 'set'>\n",
            "<class 'set'>\n"
          ],
          "name": "stdout"
        }
      ]
    },
    {
      "cell_type": "code",
      "metadata": {
        "id": "RroXfqXZ6hUG",
        "outputId": "812e16e5-d90f-4a58-de18-04a7688c04d3"
      },
      "source": [
        "# dont store duplicates\n",
        "s = {1,1,3,4,5,4,6}\n",
        "print(s)"
      ],
      "execution_count": null,
      "outputs": [
        {
          "output_type": "stream",
          "text": [
            "{1, 3, 4, 5, 6}\n"
          ],
          "name": "stdout"
        }
      ]
    },
    {
      "cell_type": "code",
      "metadata": {
        "id": "xvMGISvf6hUG",
        "outputId": "8ec68121-ca58-4e1d-b02e-bfe187632681"
      },
      "source": [
        "# not support indexing\n",
        "s[3]"
      ],
      "execution_count": null,
      "outputs": [
        {
          "output_type": "error",
          "ename": "TypeError",
          "evalue": "'set' object does not support indexing",
          "traceback": [
            "\u001b[1;31m---------------------------------------------------------------------------\u001b[0m",
            "\u001b[1;31mTypeError\u001b[0m                                 Traceback (most recent call last)",
            "\u001b[1;32m<ipython-input-8-c3fdef105b44>\u001b[0m in \u001b[0;36m<module>\u001b[1;34m()\u001b[0m\n\u001b[0;32m      1\u001b[0m \u001b[1;31m# not support indexing\u001b[0m\u001b[1;33m\u001b[0m\u001b[1;33m\u001b[0m\u001b[0m\n\u001b[1;32m----> 2\u001b[1;33m \u001b[0ms\u001b[0m\u001b[1;33m[\u001b[0m\u001b[1;36m3\u001b[0m\u001b[1;33m]\u001b[0m\u001b[1;33m\u001b[0m\u001b[0m\n\u001b[0m",
            "\u001b[1;31mTypeError\u001b[0m: 'set' object does not support indexing"
          ]
        }
      ]
    },
    {
      "cell_type": "code",
      "metadata": {
        "id": "H4xJBfsn6hUH",
        "outputId": "e3650c7e-aaed-41e1-a0d4-2a6d00d490f3"
      },
      "source": [
        "# add and remove\n",
        "\n",
        "s = {1,2,3}\n",
        "s.update([3,4,5])\n",
        "print(s)\n",
        "\n",
        "s.add(6)\n",
        "print(s)\n",
        "\n",
        "\n",
        "s.remove(6)\n",
        "print(s)\n",
        "\n",
        "s.pop() # will remove 1st element\n",
        "print(s)\n",
        "\n",
        "s.clear()\n",
        "print(s)"
      ],
      "execution_count": null,
      "outputs": [
        {
          "output_type": "stream",
          "text": [
            "{1, 2, 3, 4, 5}\n",
            "{1, 2, 3, 4, 5, 6}\n",
            "{1, 2, 3, 4, 5}\n",
            "{2, 3, 4, 5}\n",
            "set()\n"
          ],
          "name": "stdout"
        }
      ]
    },
    {
      "cell_type": "code",
      "metadata": {
        "id": "qlmmgnKz6hUI",
        "outputId": "bbd1543e-4f3c-4943-d407-8fec0c340cdb"
      },
      "source": [
        "# union\n",
        "s1 = {1,2,3,4,5,6}\n",
        "s2 = {5,6,7,8,9}\n",
        "\n",
        "s3 = s1 | s2\n",
        "print(s3)\n",
        "\n",
        "print(s1.union(s2))\n"
      ],
      "execution_count": null,
      "outputs": [
        {
          "output_type": "stream",
          "text": [
            "{1, 2, 3, 4, 5, 6, 7, 8, 9}\n",
            "{1, 2, 3, 4, 5, 6, 7, 8, 9}\n"
          ],
          "name": "stdout"
        }
      ]
    },
    {
      "cell_type": "code",
      "metadata": {
        "id": "gfs9VNA76hUI",
        "outputId": "e2658959-5566-4e57-e65d-62985e76241c"
      },
      "source": [
        "# intersection\n",
        "s1 = {1,2,3,4,5,6}\n",
        "s2 = {5,6,7,8,9}\n",
        "\n",
        "s3 = s1 & s2\n",
        "print(s3)\n",
        "\n",
        "print(s1.intersection(s2))"
      ],
      "execution_count": null,
      "outputs": [
        {
          "output_type": "stream",
          "text": [
            "{5, 6}\n",
            "{5, 6}\n"
          ],
          "name": "stdout"
        }
      ]
    },
    {
      "cell_type": "code",
      "metadata": {
        "id": "YxdGhwcn6hUJ",
        "outputId": "8d17100a-c04d-456d-8a30-eeee86268879"
      },
      "source": [
        "# set difference\n",
        "s1 = {1,2,3,4,5,6}\n",
        "s2 = {5,6,7,8,9}\n",
        "\n",
        "s3 = s1 - s2\n",
        "print(s3)\n",
        "\n",
        "s3 = s2 - s1\n",
        "print(s3)\n",
        "\n",
        "print(s1.difference(s2))"
      ],
      "execution_count": null,
      "outputs": [
        {
          "output_type": "stream",
          "text": [
            "{1, 2, 3, 4}\n",
            "{8, 9, 7}\n",
            "{1, 2, 3, 4}\n"
          ],
          "name": "stdout"
        }
      ]
    },
    {
      "cell_type": "code",
      "metadata": {
        "id": "X7qr7aoH6hUK",
        "outputId": "65c260cb-9de5-42a7-cd02-4c6e5a945ff8"
      },
      "source": [
        "# symmetric difference\n",
        "s1 = {1,2,3}\n",
        "s2 = {1,2,3,4,5}\n",
        "print(s1^s2)\n",
        "\n",
        "\n",
        "print(s1.symmetric_difference(s2))"
      ],
      "execution_count": null,
      "outputs": [
        {
          "output_type": "stream",
          "text": [
            "{4, 5}\n",
            "{4, 5}\n"
          ],
          "name": "stdout"
        }
      ]
    },
    {
      "cell_type": "code",
      "metadata": {
        "id": "BhbEHM1_6hUK",
        "outputId": "9d4acbee-2b74-498f-9632-1d098b103970"
      },
      "source": [
        "# subset\n",
        "s1.issubset(s2)"
      ],
      "execution_count": null,
      "outputs": [
        {
          "output_type": "execute_result",
          "data": {
            "text/plain": [
              "True"
            ]
          },
          "metadata": {
            "tags": []
          },
          "execution_count": 11
        }
      ]
    }
  ]
}