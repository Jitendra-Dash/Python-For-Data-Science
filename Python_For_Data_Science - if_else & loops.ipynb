{
  "nbformat": 4,
  "nbformat_minor": 0,
  "metadata": {
    "kernelspec": {
      "display_name": "Python 3",
      "language": "python",
      "name": "python3"
    },
    "language_info": {
      "codemirror_mode": {
        "name": "ipython",
        "version": 3
      },
      "file_extension": ".py",
      "mimetype": "text/x-python",
      "name": "python",
      "nbconvert_exporter": "python",
      "pygments_lexer": "ipython3",
      "version": "3.7.0"
    },
    "colab": {
      "name": "Python For Data Science - if else & loops.ipynb",
      "provenance": [],
      "include_colab_link": true
    }
  },
  "cells": [
    {
      "cell_type": "markdown",
      "metadata": {
        "id": "view-in-github",
        "colab_type": "text"
      },
      "source": [
        "<a href=\"https://colab.research.google.com/github/Jitendra-Dash/Python-For-Data-Science/blob/main/Python_For_Data_Science%20-%20if_else%20%26%20loops.ipynb\" target=\"_parent\"><img src=\"https://colab.research.google.com/assets/colab-badge.svg\" alt=\"Open In Colab\"/></a>"
      ]
    },
    {
      "cell_type": "markdown",
      "metadata": {
        "id": "n6ZhleOG6R3n"
      },
      "source": [
        "# Python For Data Science -  if else & Loops"
      ]
    },
    {
      "cell_type": "markdown",
      "metadata": {
        "id": "HA6DB_Px6R3o"
      },
      "source": [
        "### 1. if - else"
      ]
    },
    {
      "cell_type": "code",
      "metadata": {
        "id": "BDRg-V5G6R3p",
        "outputId": "53b2df43-dc2f-41e1-f271-1cfd1bfd60e9"
      },
      "source": [
        "a = 10\n",
        "b = 7\n",
        "\n",
        "if a > b:\n",
        "    print(a)\n",
        "else:\n",
        "    print(b)"
      ],
      "execution_count": null,
      "outputs": [
        {
          "output_type": "stream",
          "text": [
            "10\n"
          ],
          "name": "stdout"
        }
      ]
    },
    {
      "cell_type": "markdown",
      "metadata": {
        "id": "m9Ra9RkE6R3u"
      },
      "source": [
        "### 2. for loop"
      ]
    },
    {
      "cell_type": "code",
      "metadata": {
        "id": "dZK_9ocB6R3u",
        "outputId": "03212c67-c1b6-4d80-9a12-9cfecc050fcf"
      },
      "source": [
        "for i in range(10):\n",
        "    print(i)"
      ],
      "execution_count": null,
      "outputs": [
        {
          "output_type": "stream",
          "text": [
            "0\n",
            "1\n",
            "2\n",
            "3\n",
            "4\n",
            "5\n",
            "6\n",
            "7\n",
            "8\n",
            "9\n"
          ],
          "name": "stdout"
        }
      ]
    },
    {
      "cell_type": "markdown",
      "metadata": {
        "id": "F37BA5zo6R3v"
      },
      "source": [
        "### 3. while loop"
      ]
    },
    {
      "cell_type": "code",
      "metadata": {
        "id": "cmkW1Tel6R3v",
        "outputId": "d1b05b57-79d5-4ca0-9e2e-08063fccb439"
      },
      "source": [
        "a = 1\n",
        "while a < 10:\n",
        "    print(a)\n",
        "    a += 1"
      ],
      "execution_count": null,
      "outputs": [
        {
          "output_type": "stream",
          "text": [
            "1\n",
            "2\n",
            "3\n",
            "4\n",
            "5\n",
            "6\n",
            "7\n",
            "8\n",
            "9\n"
          ],
          "name": "stdout"
        }
      ]
    },
    {
      "cell_type": "markdown",
      "metadata": {
        "id": "qUG9yJml6R3w"
      },
      "source": [
        "### 4. nested loop"
      ]
    },
    {
      "cell_type": "code",
      "metadata": {
        "id": "0pE2OGpc6R3w",
        "outputId": "939454d1-12a2-4ad1-95b5-59db1bbbb5ad"
      },
      "source": [
        "for i in range(5):\n",
        "    for j in range(2):\n",
        "        print(j)"
      ],
      "execution_count": null,
      "outputs": [
        {
          "output_type": "stream",
          "text": [
            "0\n",
            "1\n",
            "0\n",
            "1\n",
            "0\n",
            "1\n",
            "0\n",
            "1\n",
            "0\n",
            "1\n"
          ],
          "name": "stdout"
        }
      ]
    }
  ]
}