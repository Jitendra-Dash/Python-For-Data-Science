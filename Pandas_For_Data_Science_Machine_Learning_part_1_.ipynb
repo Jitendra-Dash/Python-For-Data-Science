{
  "nbformat": 4,
  "nbformat_minor": 0,
  "metadata": {
    "colab": {
      "name": "Pandas  - For Data Science / Machine Learning part 1 .ipynb",
      "provenance": [],
      "authorship_tag": "ABX9TyORBTBnoovTnHJGltM2GtRB",
      "include_colab_link": true
    },
    "kernelspec": {
      "name": "python3",
      "display_name": "Python 3"
    }
  },
  "cells": [
    {
      "cell_type": "markdown",
      "metadata": {
        "id": "view-in-github",
        "colab_type": "text"
      },
      "source": [
        "<a href=\"https://colab.research.google.com/github/Jitendra-Dash/Python-For-Data-Science/blob/main/Pandas_For_Data_Science_Machine_Learning_part_1_.ipynb\" target=\"_parent\"><img src=\"https://colab.research.google.com/assets/colab-badge.svg\" alt=\"Open In Colab\"/></a>"
      ]
    },
    {
      "cell_type": "markdown",
      "metadata": {
        "id": "6RsZTjoxw2Em"
      },
      "source": [
        "# **Pandas - For Data Science / Machine Learning**\r\n",
        "- Pandas is an open-source library.\r\n",
        "- Pandas is used for data manipulation in ML.\r\n",
        "- Easy to use data structures and data analysis tools for the Python programming language.\r\n"
      ]
    },
    {
      "cell_type": "code",
      "metadata": {
        "id": "yHyLFjLyxFNc"
      },
      "source": [
        "# import Pandas \r\n",
        "# if you are using your local box then install as follows\r\n",
        "# write in your command prompt pip3 install pandas\r\n",
        "\r\n",
        "\r\n",
        "import pandas as pd"
      ],
      "execution_count": 3,
      "outputs": []
    },
    {
      "cell_type": "markdown",
      "metadata": {
        "id": "Ae2MIpgLyjgX"
      },
      "source": [
        "**It has 2 data stucture (for manipulation)**\r\n",
        " 1. series\r\n",
        " 2. Data Frame\r\n"
      ]
    },
    {
      "cell_type": "markdown",
      "metadata": {
        "id": "J5G7s5O8zB5d"
      },
      "source": [
        "### Panda Series :\r\n",
        "\r\n",
        "we can think as column in a table"
      ]
    },
    {
      "cell_type": "code",
      "metadata": {
        "colab": {
          "base_uri": "https://localhost:8080/"
        },
        "id": "6NJXmftjyRsl",
        "outputId": "ce8fb220-ee98-444e-f826-d1364a9da8a0"
      },
      "source": [
        "# crate a series\r\n",
        "\r\n",
        "# create the pandas series object\r\n",
        "series = pd.Series() \r\n",
        "\r\n",
        "# now print it\r\n",
        "\r\n",
        "print(series)\r\n",
        "print(\"\\n ******************************************************* \\n\")\r\n",
        "\r\n",
        "# what we can pass to the series object ?\r\n",
        "# refer : https://pandas.pydata.org/pandas-docs/stable/reference/api/pandas.Series.html\r\n",
        "# we can see we can pass an array, Iterable, dict, or scalar value\r\n",
        "\r\n",
        "# lets create an array using numpy\r\n",
        "\r\n",
        "# for that  we have to import another library which is numpy\r\n",
        "\r\n",
        "import numpy as np\r\n",
        "\r\n",
        "# arry = np.array()\r\n",
        "\r\n",
        "# what to pass to the arry object ? \r\n",
        "# refer : https://numpy.org/doc/stable/reference/generated/numpy.array.html\r\n",
        "# we can pass a list here\r\n",
        "\r\n",
        "arry  = np.array(['a','b','c','d'])\r\n",
        "\r\n",
        "#pass the array into the series\r\n",
        "series = pd.Series(arry)\r\n",
        "\r\n",
        "print(series)"
      ],
      "execution_count": 9,
      "outputs": [
        {
          "output_type": "stream",
          "text": [
            "Series([], dtype: float64)\n",
            "\n",
            " ******************************************************* \n",
            "\n",
            "0    a\n",
            "1    b\n",
            "2    c\n",
            "3    d\n",
            "dtype: object\n"
          ],
          "name": "stdout"
        },
        {
          "output_type": "stream",
          "text": [
            "/usr/local/lib/python3.6/dist-packages/ipykernel_launcher.py:4: DeprecationWarning: The default dtype for empty Series will be 'object' instead of 'float64' in a future version. Specify a dtype explicitly to silence this warning.\n",
            "  after removing the cwd from sys.path.\n"
          ],
          "name": "stderr"
        }
      ]
    },
    {
      "cell_type": "code",
      "metadata": {
        "id": "P6Bu4lk2yf06"
      },
      "source": [
        ""
      ],
      "execution_count": null,
      "outputs": []
    },
    {
      "cell_type": "markdown",
      "metadata": {
        "id": "SUgr0ckX2Joq"
      },
      "source": [
        "## Pandas DataFrame\r\n",
        "we can think as a table which has rows and columns"
      ]
    },
    {
      "cell_type": "code",
      "metadata": {
        "colab": {
          "base_uri": "https://localhost:8080/",
          "height": 168
        },
        "id": "ntudnA0U2LCE",
        "outputId": "14106b63-2387-4372-af0f-a7845e6c48b8"
      },
      "source": [
        "# creating a Data Frame\r\n",
        "\r\n",
        "# create a string using list\r\n",
        "\r\n",
        "strng = [\"we\",\"will\",\"learn\",\"pandas\"]\r\n",
        "\r\n",
        "# create a pandas data frame object and pass the above string(list)\r\n",
        "\r\n",
        "# refer : https://pandas.pydata.org/pandas-docs/stable/reference/api/pandas.DataFrame.html\r\n",
        "\r\n",
        "df = pd.DataFrame(strng)\r\n",
        "\r\n",
        "df"
      ],
      "execution_count": 11,
      "outputs": [
        {
          "output_type": "execute_result",
          "data": {
            "text/html": [
              "<div>\n",
              "<style scoped>\n",
              "    .dataframe tbody tr th:only-of-type {\n",
              "        vertical-align: middle;\n",
              "    }\n",
              "\n",
              "    .dataframe tbody tr th {\n",
              "        vertical-align: top;\n",
              "    }\n",
              "\n",
              "    .dataframe thead th {\n",
              "        text-align: right;\n",
              "    }\n",
              "</style>\n",
              "<table border=\"1\" class=\"dataframe\">\n",
              "  <thead>\n",
              "    <tr style=\"text-align: right;\">\n",
              "      <th></th>\n",
              "      <th>0</th>\n",
              "    </tr>\n",
              "  </thead>\n",
              "  <tbody>\n",
              "    <tr>\n",
              "      <th>0</th>\n",
              "      <td>we</td>\n",
              "    </tr>\n",
              "    <tr>\n",
              "      <th>1</th>\n",
              "      <td>will</td>\n",
              "    </tr>\n",
              "    <tr>\n",
              "      <th>2</th>\n",
              "      <td>learn</td>\n",
              "    </tr>\n",
              "    <tr>\n",
              "      <th>3</th>\n",
              "      <td>pandas</td>\n",
              "    </tr>\n",
              "  </tbody>\n",
              "</table>\n",
              "</div>"
            ],
            "text/plain": [
              "        0\n",
              "0      we\n",
              "1    will\n",
              "2   learn\n",
              "3  pandas"
            ]
          },
          "metadata": {
            "tags": []
          },
          "execution_count": 11
        }
      ]
    },
    {
      "cell_type": "code",
      "metadata": {
        "colab": {
          "base_uri": "https://localhost:8080/",
          "height": 228
        },
        "id": "f3ddZBmz3Qsx",
        "outputId": "2f53b5d2-5c1a-4792-9cb1-ae70055d5f79"
      },
      "source": [
        "# we can pass dict to pandas data frame\r\n",
        "# lets create a dict\r\n",
        "\r\n",
        "dct = {\"Roll number\" : [101,102,103,104,105,106] , \"Student Names\": [\"ABCD\" , \"EFGH\" ,\"IJKL\",\"MNOP\",\"QRST\",\"UVWX\"]}\r\n",
        "\r\n",
        "# create a data frame\r\n",
        "\r\n",
        "df = pd.DataFrame(dct)\r\n",
        "\r\n",
        "df"
      ],
      "execution_count": 18,
      "outputs": [
        {
          "output_type": "execute_result",
          "data": {
            "text/html": [
              "<div>\n",
              "<style scoped>\n",
              "    .dataframe tbody tr th:only-of-type {\n",
              "        vertical-align: middle;\n",
              "    }\n",
              "\n",
              "    .dataframe tbody tr th {\n",
              "        vertical-align: top;\n",
              "    }\n",
              "\n",
              "    .dataframe thead th {\n",
              "        text-align: right;\n",
              "    }\n",
              "</style>\n",
              "<table border=\"1\" class=\"dataframe\">\n",
              "  <thead>\n",
              "    <tr style=\"text-align: right;\">\n",
              "      <th></th>\n",
              "      <th>Roll number</th>\n",
              "      <th>Student Names</th>\n",
              "    </tr>\n",
              "  </thead>\n",
              "  <tbody>\n",
              "    <tr>\n",
              "      <th>0</th>\n",
              "      <td>101</td>\n",
              "      <td>ABCD</td>\n",
              "    </tr>\n",
              "    <tr>\n",
              "      <th>1</th>\n",
              "      <td>102</td>\n",
              "      <td>EFGH</td>\n",
              "    </tr>\n",
              "    <tr>\n",
              "      <th>2</th>\n",
              "      <td>103</td>\n",
              "      <td>IJKL</td>\n",
              "    </tr>\n",
              "    <tr>\n",
              "      <th>3</th>\n",
              "      <td>104</td>\n",
              "      <td>MNOP</td>\n",
              "    </tr>\n",
              "    <tr>\n",
              "      <th>4</th>\n",
              "      <td>105</td>\n",
              "      <td>QRST</td>\n",
              "    </tr>\n",
              "    <tr>\n",
              "      <th>5</th>\n",
              "      <td>106</td>\n",
              "      <td>UVWX</td>\n",
              "    </tr>\n",
              "  </tbody>\n",
              "</table>\n",
              "</div>"
            ],
            "text/plain": [
              "   Roll number Student Names\n",
              "0          101          ABCD\n",
              "1          102          EFGH\n",
              "2          103          IJKL\n",
              "3          104          MNOP\n",
              "4          105          QRST\n",
              "5          106          UVWX"
            ]
          },
          "metadata": {
            "tags": []
          },
          "execution_count": 18
        }
      ]
    },
    {
      "cell_type": "markdown",
      "metadata": {
        "id": "a5ZcrcTl6J0z"
      },
      "source": [
        "There are number of way we can create Data frame\r\n",
        "- Pandas Dataframe from list of list\r\n",
        "- Pandas Dataframe from list using Zip\r\n",
        "- Pandas Dataframe from list of dicts"
      ]
    },
    {
      "cell_type": "code",
      "metadata": {
        "colab": {
          "base_uri": "https://localhost:8080/",
          "height": 246
        },
        "id": "qynyg4Ac8bwp",
        "outputId": "53753a26-e1ba-45f1-9387-3fd77ee08f4f"
      },
      "source": [
        "# lets take the above example\r\n",
        "\r\n",
        "# Pandas Dataframe from list of list\r\n",
        "# create list of list (nested list)\r\n",
        "\r\n",
        "lst_of_lst = [ [101,\"ABCD\"], [102,\"EFGH\"], [103,\"IJKL\"], [104,\"MNOP\"], [105,\"QRST\"], [106,\"UVWX\"] ]\r\n",
        "print(lst_of_lst)\r\n",
        "\r\n",
        "# create a data frame object\r\n",
        "\r\n",
        "df = pd.DataFrame(lst_of_lst , columns=[\"Roll number\" , \"Student names\"])\r\n",
        "\r\n",
        "df"
      ],
      "execution_count": 22,
      "outputs": [
        {
          "output_type": "stream",
          "text": [
            "[[101, 'ABCD'], [102, 'EFGH'], [103, 'IJKL'], [104, 'MNOP'], [105, 'QRST'], [106, 'UVWX']]\n"
          ],
          "name": "stdout"
        },
        {
          "output_type": "execute_result",
          "data": {
            "text/html": [
              "<div>\n",
              "<style scoped>\n",
              "    .dataframe tbody tr th:only-of-type {\n",
              "        vertical-align: middle;\n",
              "    }\n",
              "\n",
              "    .dataframe tbody tr th {\n",
              "        vertical-align: top;\n",
              "    }\n",
              "\n",
              "    .dataframe thead th {\n",
              "        text-align: right;\n",
              "    }\n",
              "</style>\n",
              "<table border=\"1\" class=\"dataframe\">\n",
              "  <thead>\n",
              "    <tr style=\"text-align: right;\">\n",
              "      <th></th>\n",
              "      <th>Roll number</th>\n",
              "      <th>Student names</th>\n",
              "    </tr>\n",
              "  </thead>\n",
              "  <tbody>\n",
              "    <tr>\n",
              "      <th>0</th>\n",
              "      <td>101</td>\n",
              "      <td>ABCD</td>\n",
              "    </tr>\n",
              "    <tr>\n",
              "      <th>1</th>\n",
              "      <td>102</td>\n",
              "      <td>EFGH</td>\n",
              "    </tr>\n",
              "    <tr>\n",
              "      <th>2</th>\n",
              "      <td>103</td>\n",
              "      <td>IJKL</td>\n",
              "    </tr>\n",
              "    <tr>\n",
              "      <th>3</th>\n",
              "      <td>104</td>\n",
              "      <td>MNOP</td>\n",
              "    </tr>\n",
              "    <tr>\n",
              "      <th>4</th>\n",
              "      <td>105</td>\n",
              "      <td>QRST</td>\n",
              "    </tr>\n",
              "    <tr>\n",
              "      <th>5</th>\n",
              "      <td>106</td>\n",
              "      <td>UVWX</td>\n",
              "    </tr>\n",
              "  </tbody>\n",
              "</table>\n",
              "</div>"
            ],
            "text/plain": [
              "   Roll number Student names\n",
              "0          101          ABCD\n",
              "1          102          EFGH\n",
              "2          103          IJKL\n",
              "3          104          MNOP\n",
              "4          105          QRST\n",
              "5          106          UVWX"
            ]
          },
          "metadata": {
            "tags": []
          },
          "execution_count": 22
        }
      ]
    },
    {
      "cell_type": "code",
      "metadata": {
        "colab": {
          "base_uri": "https://localhost:8080/",
          "height": 265
        },
        "id": "3tz-7E8p4T4X",
        "outputId": "b691d595-8c45-40d9-97f5-a1218eefae13"
      },
      "source": [
        "# Pandas Dataframe from list using Zip\r\n",
        "\r\n",
        "\r\n",
        "roll_numb = [101,102,103,104,105,106]\r\n",
        "student_names = [\"ABCD\" , \"EFGH\" ,\"IJKL\",\"MNOP\",\"QRST\",\"UVWX\"]\r\n",
        "\r\n",
        "# lets zip it\r\n",
        "\r\n",
        "z = list(zip(roll_numb,student_names))\r\n",
        "print(z)\r\n",
        "print(\"----------------------------------------------------------------------------------------------------------\")\r\n",
        "\r\n",
        "# lets create a data frame object\r\n",
        "df = pd.DataFrame(z , columns=[\"Roll number\" , \"Student names\"])\r\n",
        "\r\n",
        "df\r\n",
        "\r\n"
      ],
      "execution_count": 20,
      "outputs": [
        {
          "output_type": "stream",
          "text": [
            "[(101, 'ABCD'), (102, 'EFGH'), (103, 'IJKL'), (104, 'MNOP'), (105, 'QRST'), (106, 'UVWX')]\n",
            "----------------------------------------------------------------------------------------------------------\n"
          ],
          "name": "stdout"
        },
        {
          "output_type": "execute_result",
          "data": {
            "text/html": [
              "<div>\n",
              "<style scoped>\n",
              "    .dataframe tbody tr th:only-of-type {\n",
              "        vertical-align: middle;\n",
              "    }\n",
              "\n",
              "    .dataframe tbody tr th {\n",
              "        vertical-align: top;\n",
              "    }\n",
              "\n",
              "    .dataframe thead th {\n",
              "        text-align: right;\n",
              "    }\n",
              "</style>\n",
              "<table border=\"1\" class=\"dataframe\">\n",
              "  <thead>\n",
              "    <tr style=\"text-align: right;\">\n",
              "      <th></th>\n",
              "      <th>Roll number</th>\n",
              "      <th>Student names</th>\n",
              "    </tr>\n",
              "  </thead>\n",
              "  <tbody>\n",
              "    <tr>\n",
              "      <th>0</th>\n",
              "      <td>101</td>\n",
              "      <td>ABCD</td>\n",
              "    </tr>\n",
              "    <tr>\n",
              "      <th>1</th>\n",
              "      <td>102</td>\n",
              "      <td>EFGH</td>\n",
              "    </tr>\n",
              "    <tr>\n",
              "      <th>2</th>\n",
              "      <td>103</td>\n",
              "      <td>IJKL</td>\n",
              "    </tr>\n",
              "    <tr>\n",
              "      <th>3</th>\n",
              "      <td>104</td>\n",
              "      <td>MNOP</td>\n",
              "    </tr>\n",
              "    <tr>\n",
              "      <th>4</th>\n",
              "      <td>105</td>\n",
              "      <td>QRST</td>\n",
              "    </tr>\n",
              "    <tr>\n",
              "      <th>5</th>\n",
              "      <td>106</td>\n",
              "      <td>UVWX</td>\n",
              "    </tr>\n",
              "  </tbody>\n",
              "</table>\n",
              "</div>"
            ],
            "text/plain": [
              "   Roll number Student names\n",
              "0          101          ABCD\n",
              "1          102          EFGH\n",
              "2          103          IJKL\n",
              "3          104          MNOP\n",
              "4          105          QRST\n",
              "5          106          UVWX"
            ]
          },
          "metadata": {
            "tags": []
          },
          "execution_count": 20
        }
      ]
    },
    {
      "cell_type": "code",
      "metadata": {
        "colab": {
          "base_uri": "https://localhost:8080/",
          "height": 126
        },
        "id": "P4nK2vXm7R-v",
        "outputId": "20b7dba4-857d-4b63-ca72-bf5f5caea747"
      },
      "source": [
        "#Pandas Dataframe from list of dicts\r\n",
        "# lets create dicts and pass it on list\r\n",
        "\r\n",
        "lst_of_dict = [  {\"a\":1 , \"b\":2 , \"c\":3,\"d\":4} ,  {\"a\":11,\"b\":12,\"c\":13,\"d\":14}  ]\r\n",
        "\r\n",
        "print(lst_of_dict)\r\n",
        "\r\n",
        "# create a pandas object and pass the above object\r\n",
        "\r\n",
        "df = pd.DataFrame(lst_of_dict )\r\n",
        "\r\n",
        "df\r\n",
        "\r\n",
        "\r\n"
      ],
      "execution_count": 29,
      "outputs": [
        {
          "output_type": "stream",
          "text": [
            "[{'a': 1, 'b': 2, 'c': 3, 'd': 4}, {'a': 11, 'b': 12, 'c': 13, 'd': 14}]\n"
          ],
          "name": "stdout"
        },
        {
          "output_type": "execute_result",
          "data": {
            "text/html": [
              "<div>\n",
              "<style scoped>\n",
              "    .dataframe tbody tr th:only-of-type {\n",
              "        vertical-align: middle;\n",
              "    }\n",
              "\n",
              "    .dataframe tbody tr th {\n",
              "        vertical-align: top;\n",
              "    }\n",
              "\n",
              "    .dataframe thead th {\n",
              "        text-align: right;\n",
              "    }\n",
              "</style>\n",
              "<table border=\"1\" class=\"dataframe\">\n",
              "  <thead>\n",
              "    <tr style=\"text-align: right;\">\n",
              "      <th></th>\n",
              "      <th>a</th>\n",
              "      <th>b</th>\n",
              "      <th>c</th>\n",
              "      <th>d</th>\n",
              "    </tr>\n",
              "  </thead>\n",
              "  <tbody>\n",
              "    <tr>\n",
              "      <th>0</th>\n",
              "      <td>1</td>\n",
              "      <td>2</td>\n",
              "      <td>3</td>\n",
              "      <td>4</td>\n",
              "    </tr>\n",
              "    <tr>\n",
              "      <th>1</th>\n",
              "      <td>11</td>\n",
              "      <td>12</td>\n",
              "      <td>13</td>\n",
              "      <td>14</td>\n",
              "    </tr>\n",
              "  </tbody>\n",
              "</table>\n",
              "</div>"
            ],
            "text/plain": [
              "    a   b   c   d\n",
              "0   1   2   3   4\n",
              "1  11  12  13  14"
            ]
          },
          "metadata": {
            "tags": []
          },
          "execution_count": 29
        }
      ]
    }
  ]
}