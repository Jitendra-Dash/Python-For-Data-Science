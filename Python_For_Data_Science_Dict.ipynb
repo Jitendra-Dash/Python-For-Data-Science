{
  "nbformat": 4,
  "nbformat_minor": 0,
  "metadata": {
    "kernelspec": {
      "display_name": "Python 3",
      "language": "python",
      "name": "python3"
    },
    "language_info": {
      "codemirror_mode": {
        "name": "ipython",
        "version": 3
      },
      "file_extension": ".py",
      "mimetype": "text/x-python",
      "name": "python",
      "nbconvert_exporter": "python",
      "pygments_lexer": "ipython3",
      "version": "3.7.0"
    },
    "colab": {
      "name": "Python For Data Science - Dict.ipynb",
      "provenance": [],
      "include_colab_link": true
    }
  },
  "cells": [
    {
      "cell_type": "markdown",
      "metadata": {
        "id": "view-in-github",
        "colab_type": "text"
      },
      "source": [
        "<a href=\"https://colab.research.google.com/github/Jitendra-Dash/Python-For-Data-Science/blob/main/Python_For_Data_Science_Dict.ipynb\" target=\"_parent\"><img src=\"https://colab.research.google.com/assets/colab-badge.svg\" alt=\"Open In Colab\"/></a>"
      ]
    },
    {
      "cell_type": "markdown",
      "metadata": {
        "id": "zP1KDC9158SH"
      },
      "source": [
        "# Python For Data Science - Dict\n",
        "- mostly used in data science\n",
        "- store data values in key:value pairs\n",
        "- dictionary is a collection which is unordered, changeable and does not allow duplicates\n",
        "- Dictionaries are written with curly brackets, and have keys and values:"
      ]
    },
    {
      "cell_type": "code",
      "metadata": {
        "id": "uPANqSwv58SJ",
        "outputId": "4e09909a-450b-46a4-8c79-2e80bd7801b6"
      },
      "source": [
        "# create Dict\n",
        "\n",
        "d = {}\n",
        "print(type(d))\n",
        "\n",
        "d = dict()\n",
        "print(type(d))"
      ],
      "execution_count": null,
      "outputs": [
        {
          "output_type": "stream",
          "text": [
            "<class 'dict'>\n",
            "<class 'dict'>\n"
          ],
          "name": "stdout"
        }
      ]
    },
    {
      "cell_type": "code",
      "metadata": {
        "id": "28SYzTxo58SQ",
        "outputId": "cb7c35b3-de76-4c6d-e9e7-f7bb91bf276d"
      },
      "source": [
        "d = {1 : \"summing\" , 2 : \"up\"}\n",
        "print(d)"
      ],
      "execution_count": null,
      "outputs": [
        {
          "output_type": "stream",
          "text": [
            "{1: 'summing', 2: 'up'}\n"
          ],
          "name": "stdout"
        }
      ]
    },
    {
      "cell_type": "code",
      "metadata": {
        "id": "YPu_uCrl58SR",
        "outputId": "9d3e1e67-2cba-475f-8620-f1368bdfe358"
      },
      "source": [
        "d = {1 : \"just\",\"task\" : \"practice\" , 2:\"python\"}\n",
        "print(d)"
      ],
      "execution_count": null,
      "outputs": [
        {
          "output_type": "stream",
          "text": [
            "{1: 'just', 'task': 'practice', 2: 'python'}\n"
          ],
          "name": "stdout"
        }
      ]
    },
    {
      "cell_type": "code",
      "metadata": {
        "id": "77G_PxCG58SS",
        "outputId": "b14796d7-78f7-4742-a172-8989c9308c11"
      },
      "source": [
        "#pass key & value as tuple\n",
        "d = dict([(1,\"summing\"),(2,\"up\")])\n",
        "print(d)"
      ],
      "execution_count": null,
      "outputs": [
        {
          "output_type": "stream",
          "text": [
            "{1: 'summing', 2: 'up'}\n"
          ],
          "name": "stdout"
        }
      ]
    },
    {
      "cell_type": "code",
      "metadata": {
        "id": "648_f5pq58ST",
        "outputId": "3820ee65-1ad7-4afe-e173-f5ceff75b7d2"
      },
      "source": [
        "d = {\"name\": \"summing_up\" , \"whats for\": \"to help people\"}\n",
        "print(d)\n",
        "print(d['name'])\n",
        "print(d['whats for'])"
      ],
      "execution_count": null,
      "outputs": [
        {
          "output_type": "stream",
          "text": [
            "{'name': 'summing_up', 'whats for': 'to help people'}\n",
            "summing_up\n",
            "to help people\n"
          ],
          "name": "stdout"
        }
      ]
    },
    {
      "cell_type": "code",
      "metadata": {
        "id": "KjexG3rn58SU",
        "outputId": "d911195c-a560-495e-8f00-0da898d546b4"
      },
      "source": [
        "# change value\n",
        "d['name'] = \"summing up ai\"\n",
        "print(d)"
      ],
      "execution_count": null,
      "outputs": [
        {
          "output_type": "stream",
          "text": [
            "{'name': 'summing up ai', 'whats for': 'to help people'}\n"
          ],
          "name": "stdout"
        }
      ]
    },
    {
      "cell_type": "code",
      "metadata": {
        "id": "p4eGAQtF58SV",
        "outputId": "31c29434-6b38-45b4-c132-8e1d8737eafb"
      },
      "source": [
        "# remove \n",
        "d.pop('whats for')\n",
        "print(d)"
      ],
      "execution_count": null,
      "outputs": [
        {
          "output_type": "stream",
          "text": [
            "{'name': 'summing up ai'}\n"
          ],
          "name": "stdout"
        }
      ]
    },
    {
      "cell_type": "code",
      "metadata": {
        "id": "NfVGInuL58SW",
        "outputId": "ff107fe5-188d-4b11-95ed-95b8cf5610cb"
      },
      "source": [
        "d = {}.fromkeys([\"hey\",\"there\"],1)\n",
        "print(d)"
      ],
      "execution_count": null,
      "outputs": [
        {
          "output_type": "stream",
          "text": [
            "{'hey': 1, 'there': 1}\n"
          ],
          "name": "stdout"
        }
      ]
    },
    {
      "cell_type": "code",
      "metadata": {
        "id": "SO55SdOK58SW",
        "outputId": "72624a8a-adaa-4063-d061-e269d3a6058c"
      },
      "source": [
        "# some dict methods\n",
        "\n",
        "d = {1:\"one\",2:\"two\",3:\"three\",4:\"four\"}\n",
        "\n",
        "print(\"keys : \" , d.keys())\n",
        "\n",
        "print('values : ' , d.values())\n",
        "\n",
        "print(\"items : \", d.items())\n",
        "\n",
        "d1 = {5:\"five\",6 :\"six\"}\n",
        "\n",
        "\n",
        "\n",
        "d.update(d1)\n",
        "print(\"update :\" ,d)"
      ],
      "execution_count": null,
      "outputs": [
        {
          "output_type": "stream",
          "text": [
            "keys :  dict_keys([1, 2, 3, 4])\n",
            "values :  dict_values(['one', 'two', 'three', 'four'])\n",
            "items :  dict_items([(1, 'one'), (2, 'two'), (3, 'three'), (4, 'four')])\n",
            "update : {1: 'one', 2: 'two', 3: 'three', 4: 'four', 5: 'five', 6: 'six'}\n"
          ],
          "name": "stdout"
        }
      ]
    },
    {
      "cell_type": "code",
      "metadata": {
        "id": "6qLQy1oy58SX",
        "outputId": "d2ca3e5a-2f3d-442e-b597-50774b8c6c3a"
      },
      "source": [
        "# all methods\n",
        "print(dir(dict()))"
      ],
      "execution_count": null,
      "outputs": [
        {
          "output_type": "stream",
          "text": [
            "['__class__', '__contains__', '__delattr__', '__delitem__', '__dir__', '__doc__', '__eq__', '__format__', '__ge__', '__getattribute__', '__getitem__', '__gt__', '__hash__', '__init__', '__init_subclass__', '__iter__', '__le__', '__len__', '__lt__', '__ne__', '__new__', '__reduce__', '__reduce_ex__', '__repr__', '__setattr__', '__setitem__', '__sizeof__', '__str__', '__subclasshook__', 'clear', 'copy', 'fromkeys', 'get', 'items', 'keys', 'pop', 'popitem', 'setdefault', 'update', 'values']\n"
          ],
          "name": "stdout"
        }
      ]
    },
    {
      "cell_type": "code",
      "metadata": {
        "id": "DKB7sL_458SX",
        "outputId": "2591a079-b2cd-42ba-e7c4-7ffbb54814d4"
      },
      "source": [
        "# print(all key value pair)\n",
        "for items in d.items():\n",
        "    print(items)"
      ],
      "execution_count": null,
      "outputs": [
        {
          "output_type": "stream",
          "text": [
            "(1, 'one')\n",
            "(2, 'two')\n",
            "(3, 'three')\n",
            "(4, 'four')\n",
            "(5, 'five')\n",
            "(6, 'six')\n"
          ],
          "name": "stdout"
        }
      ]
    },
    {
      "cell_type": "code",
      "metadata": {
        "id": "tjPEm7Gz58SY",
        "outputId": "ff6b5b91-7d56-4ef6-e913-89f6273904fb"
      },
      "source": [
        "# dict Comprehension\n",
        "a = [items for items in d.items()]\n",
        "print(a)\n"
      ],
      "execution_count": null,
      "outputs": [
        {
          "output_type": "stream",
          "text": [
            "[(1, 'one'), (2, 'two'), (3, 'three'), (4, 'four'), (5, 'five'), (6, 'six')]\n"
          ],
          "name": "stdout"
        }
      ]
    }
  ]
}