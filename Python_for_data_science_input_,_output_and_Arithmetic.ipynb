{
  "nbformat": 4,
  "nbformat_minor": 0,
  "metadata": {
    "kernelspec": {
      "display_name": "Python 3",
      "language": "python",
      "name": "python3"
    },
    "language_info": {
      "codemirror_mode": {
        "name": "ipython",
        "version": 3
      },
      "file_extension": ".py",
      "mimetype": "text/x-python",
      "name": "python",
      "nbconvert_exporter": "python",
      "pygments_lexer": "ipython3",
      "version": "3.7.0"
    },
    "colab": {
      "name": "Python for data science - input , output and Arithmetic.ipynb",
      "provenance": [],
      "toc_visible": true,
      "include_colab_link": true
    }
  },
  "cells": [
    {
      "cell_type": "markdown",
      "metadata": {
        "id": "view-in-github",
        "colab_type": "text"
      },
      "source": [
        "<a href=\"https://colab.research.google.com/github/Jitendra-Dash/Python-For-Data-Science/blob/main/Python_for_data_science_input_%2C_output_and_Arithmetic.ipynb\" target=\"_parent\"><img src=\"https://colab.research.google.com/assets/colab-badge.svg\" alt=\"Open In Colab\"/></a>"
      ]
    },
    {
      "cell_type": "markdown",
      "metadata": {
        "id": "AyLT7rlT6V5Y"
      },
      "source": [
        "# Python for Data Science - Input , Output & Arithmetic"
      ]
    },
    {
      "cell_type": "markdown",
      "metadata": {
        "id": "EehTIkeJ6V5Y"
      },
      "source": [
        "## Basic of Python"
      ]
    },
    {
      "cell_type": "markdown",
      "metadata": {
        "id": "qVUtUzHL6V5Z"
      },
      "source": [
        "### 1. Input and Output"
      ]
    },
    {
      "cell_type": "code",
      "metadata": {
        "id": "gI-SvX6l6V5Z",
        "outputId": "8ad3365e-6627-4fc8-d92c-17ee004d47c0"
      },
      "source": [
        "input()"
      ],
      "execution_count": null,
      "outputs": [
        {
          "output_type": "stream",
          "text": [
            "you are about to learn python for data science\n"
          ],
          "name": "stdout"
        },
        {
          "output_type": "execute_result",
          "data": {
            "text/plain": [
              "'you are about to learn python for data science'"
            ]
          },
          "metadata": {
            "tags": []
          },
          "execution_count": 4
        }
      ]
    },
    {
      "cell_type": "code",
      "metadata": {
        "id": "DVw3vcBz6V5b",
        "outputId": "24bfc3b9-1242-4cd4-a207-b1db1050dcef"
      },
      "source": [
        "print(\"things are going to change\")"
      ],
      "execution_count": null,
      "outputs": [
        {
          "output_type": "stream",
          "text": [
            "things are going to change\n"
          ],
          "name": "stdout"
        }
      ]
    },
    {
      "cell_type": "markdown",
      "metadata": {
        "id": "pZq_G9Ji6V5c"
      },
      "source": [
        "### 2. Variable"
      ]
    },
    {
      "cell_type": "code",
      "metadata": {
        "id": "pZbxIzPX6V5c",
        "outputId": "5f22bc35-d0ed-4392-d66f-0366577dfe0d"
      },
      "source": [
        "a = 10 # in this case a is a variable\n",
        "print(a)"
      ],
      "execution_count": null,
      "outputs": [
        {
          "output_type": "stream",
          "text": [
            "10\n"
          ],
          "name": "stdout"
        }
      ]
    },
    {
      "cell_type": "markdown",
      "metadata": {
        "id": "IjNSTGTd6V5d"
      },
      "source": [
        "### 2 . Arithmetic Operators"
      ]
    },
    {
      "cell_type": "code",
      "metadata": {
        "id": "Gr5hEnl66V5d",
        "outputId": "012ae342-aff9-48da-9c19-6ec622483d97"
      },
      "source": [
        "# i. Addition\n",
        "\n",
        "# here a is a variable \n",
        "# b is also a variable\n",
        "\n",
        "a = 10\n",
        "b = 30\n",
        "\n",
        "c = a + b #addition\n",
        "\n",
        "print(c)"
      ],
      "execution_count": null,
      "outputs": [
        {
          "output_type": "stream",
          "text": [
            "40\n"
          ],
          "name": "stdout"
        }
      ]
    },
    {
      "cell_type": "code",
      "metadata": {
        "id": "pHxne66V6V5e",
        "outputId": "cecbdded-ff43-49de-d453-7f9d39676ca2"
      },
      "source": [
        "# ii. subtraction\n",
        "a = 40\n",
        "b = 20\n",
        "\n",
        "c = a - b\n",
        "print(c)"
      ],
      "execution_count": null,
      "outputs": [
        {
          "output_type": "stream",
          "text": [
            "20\n"
          ],
          "name": "stdout"
        }
      ]
    },
    {
      "cell_type": "code",
      "metadata": {
        "id": "MUa6PEHi6V5e",
        "outputId": "4294811c-8170-461d-ed5e-c18a1c743d38"
      },
      "source": [
        "# iii.  Division\n",
        "a = 50\n",
        "b = 5\n",
        "\n",
        "c = a/b\n",
        "print(c)# remeber it will give float value\n",
        "\n",
        "print(int(c))# convert c to an interger"
      ],
      "execution_count": null,
      "outputs": [
        {
          "output_type": "stream",
          "text": [
            "10.0\n",
            "10\n"
          ],
          "name": "stdout"
        }
      ]
    },
    {
      "cell_type": "code",
      "metadata": {
        "id": "qeSDH9dN6V5f",
        "outputId": "f8d1ecf9-a39b-47df-9583-171487490afe"
      },
      "source": [
        "# iv. multiplication\n",
        "\n",
        "a = 5 \n",
        "b = 4\n",
        "\n",
        "c = a * b\n",
        "\n",
        "print(c)"
      ],
      "execution_count": null,
      "outputs": [
        {
          "output_type": "stream",
          "text": [
            "20\n"
          ],
          "name": "stdout"
        }
      ]
    },
    {
      "cell_type": "code",
      "metadata": {
        "id": "HQznphyv6V5f",
        "outputId": "2c6c528e-d122-407c-9380-ab7e8ebc0f98"
      },
      "source": [
        "# v. Modulus\n",
        "\n",
        "a = 11\n",
        "b = 2\n",
        "\n",
        "c = a % b # it will give you  remainder\n",
        "print(c)"
      ],
      "execution_count": null,
      "outputs": [
        {
          "output_type": "stream",
          "text": [
            "1\n"
          ],
          "name": "stdout"
        }
      ]
    },
    {
      "cell_type": "code",
      "metadata": {
        "id": "LTIKQUgG6V5g",
        "outputId": "a1939cf2-ce80-411b-99a9-91161df4d323"
      },
      "source": [
        "# vi. Exponent\n",
        "\n",
        "a = 3\n",
        "b = 3\n",
        "\n",
        "c = a**b\n",
        "print(c)"
      ],
      "execution_count": null,
      "outputs": [
        {
          "output_type": "stream",
          "text": [
            "27\n"
          ],
          "name": "stdout"
        }
      ]
    },
    {
      "cell_type": "code",
      "metadata": {
        "id": "bvO-KTtY6V5g",
        "outputId": "602981a2-93fb-4ca8-ad78-e343921890a3"
      },
      "source": [
        "# vii. Floor Division\n",
        "\n",
        "a = 19\n",
        "b = 4\n",
        "\n",
        "c = a//b\n",
        "\n",
        "print(c)"
      ],
      "execution_count": null,
      "outputs": [
        {
          "output_type": "stream",
          "text": [
            "4\n"
          ],
          "name": "stdout"
        }
      ]
    }
  ]
}